{
 "cells": [
  {
   "cell_type": "markdown",
   "metadata": {},
   "source": [
    "## 11. heatmap tweet volume\n",
    "Plot heatmap of tweet volume involving AA, sorted by weekday - hour.\n",
    "\n",
    "**input**  :pickle file at /obj folder and database  \n",
    "**output** :plots of tweet volume heatmap"
   ]
  },
  {
   "cell_type": "code",
   "execution_count": null,
   "metadata": {
    "collapsed": true
   },
   "outputs": [],
   "source": [
    "import sqlite3\n",
    "import pandas as pd\n",
    "import time \n",
    "import numpy as np\n",
    "conn = sqlite3.connect('core.db',isolation_level = None)\n",
    "cur = conn.cursor()"
   ]
  },
  {
   "cell_type": "markdown",
   "metadata": {},
   "source": [
    "### BELOW THIS IS THE FIRST PART: PLOTTING THE WORD RELATED HEATMAP(DELAY)###"
   ]
  },
  {
   "cell_type": "code",
   "execution_count": null,
   "metadata": {},
   "outputs": [],
   "source": [
    "# create dataframe with columns of 'created_at', 'text', 'sentiment_score', 'word' with conversation\n",
    "\n",
    "delay = \"delay\"\n",
    "\n",
    "def get_word_df(word): \n",
    "    st = time.time() \n",
    "    df_all_word = pd.DataFrame()\n",
    "    query = \"SELECT created_at,text,sentiment_score, user_id FROM twitter,conversation WHERE twitter.id = conversation.tweet_id AND text LIKE '%\"+ word +\"%'\"\n",
    "    df = pd.read_sql_query(query,conn)\n",
    "    df['word'] = word\n",
    "    df_all_word = df_all_word.append(df,ignore_index = True)\n",
    "    return df_all_word \n",
    "\n",
    "\n",
    "df_delay = get_word_df(delay)"
   ]
  },
  {
   "cell_type": "code",
   "execution_count": null,
   "metadata": {
    "collapsed": true
   },
   "outputs": [],
   "source": [
    "airlines = [56377143, 106062176, 18332190, 22536055, 124476322, 26223583, 2182373406,\n",
    "            38676903, 1542862735, 253340062, 218730857, 45621423, 20626359] \n",
    "\n",
    "weekdays = ['Mon','Tue','Wed','Thu','Fri','Sat','Sun']\n",
    "\n",
    "def get_heatmap_val(df):\n",
    "    \n",
    "    heatmap_df = pd.DataFrame(index = np.arange(0,24), columns = weekdays)   \n",
    "    selected = df.loc[~df['user_id'].isin(airlines)]  \n",
    "    for string in selected['created_at']: \n",
    "        weekday = string[0:3]\n",
    "        hour = int(string[11:13])\n",
    "        if format(heatmap_df.loc[hour, weekday]) == 'nan':\n",
    "            heatmap_df.loc[hour, weekday] = 0\n",
    "        heatmap_df.loc[hour, weekday] += 1\n",
    "        heatmap_df = heatmap_df.astype(np.float64)\n",
    "    return heatmap_df\n",
    "\n",
    "df_delay_h = get_heatmap_val(df_delay)\n"
   ]
  },
  {
   "cell_type": "code",
   "execution_count": null,
   "metadata": {},
   "outputs": [],
   "source": [
    "# import matplotlib.pyplot as plt; plt.rcdefaults()\n",
    "%matplotlib inline\n",
    "import matplotlib.pyplot as plt\n",
    "import seaborn as sns \n",
    "\n",
    "\n",
    "plt.figure(figsize = (12, 8))\n",
    "with sns.axes_style(\"white\"):\n",
    "    sns.heatmap(df_delay_h, cmap = \"inferno_r\", mask = df_delay_h.isnull())\n",
    "\n",
    "plt.show()"
   ]
  },
  {
   "cell_type": "markdown",
   "metadata": {},
   "source": [
    "### BELOW THIS ARE THE POSITIVE AND NEGATIVE HEATMAP PLOTS###"
   ]
  },
  {
   "cell_type": "code",
   "execution_count": null,
   "metadata": {},
   "outputs": [],
   "source": [
    "import pickle\n",
    "'''\n",
    "This way you can load the pickle file into python.\n",
    "\n",
    "It contains our beloveth conversations with super badass scores.\n",
    "'''\n",
    "\n",
    "conversations_with_scores = pickle.load(open(\"obj/conversations_with_scores.p\", \"rb\"))"
   ]
  },
  {
   "cell_type": "code",
   "execution_count": null,
   "metadata": {},
   "outputs": [],
   "source": [
    "from collections import defaultdict as dfd\n",
    "import numpy as np\n",
    "\n",
    "airlines = [56377143, 106062176, 18332190, 22536055, 124476322, 26223583, 2182373406,\n",
    "            38676903, 1542862735, 253340062, 218730857, 45621423, 20626359]\n",
    "\n",
    "\n",
    "weekday_sentiment_dict_am = dfd(list)\n",
    "\n",
    "weekdays = ['Mon','Tue','Wed','Thu','Fri','Sat','Sun']\n",
    "\n",
    "\n",
    "sen_k_df = pd.DataFrame(index = np.arange(0,24), columns = weekdays) \n",
    "sen_g_df = pd.DataFrame(index = np.arange(0,24), columns = weekdays) \n",
    "\n",
    "for conv in conversations_with_scores:\n",
    "    id_lst = [tweet[1] for tweet in conv]\n",
    "    if 22536055 in id_lst:\n",
    "        cus_tweets = []\n",
    "        for tweet in conv:\n",
    "            if tweet[1] not in airlines: \n",
    "                cus_tweets.append(tweet)\n",
    "        weekday = conv[-1][2][0:3]\n",
    "        hour = int(conv[-1][2][10:13])\n",
    "        if format(sen_k_df.loc[hour, weekday]) == 'nan':\n",
    "            sen_k_df.loc[hour, weekday] = 0 \n",
    "        if format(sen_g_df.loc[hour, weekday]) == 'nan':\n",
    "            sen_g_df.loc[hour, weekday] = 0  \n",
    "        if cus_tweets[-1][4] > 0: \n",
    "             sen_k_df.loc[hour, weekday] += 1 \n",
    "        if cus_tweets[-1][4] < 0:\n",
    "             sen_g_df.loc[hour, weekday] += 1\n",
    "        \n",
    "\n",
    "sen_k_df = sen_k_df.astype(np.float64)\n",
    "\n",
    "sen_g_df = sen_g_df.astype(np.float64)"
   ]
  },
  {
   "cell_type": "markdown",
   "metadata": {},
   "source": [
    "### below's the positive heatmap"
   ]
  },
  {
   "cell_type": "code",
   "execution_count": null,
   "metadata": {},
   "outputs": [],
   "source": [
    "print(sen_g_df)"
   ]
  },
  {
   "cell_type": "code",
   "execution_count": null,
   "metadata": {},
   "outputs": [],
   "source": [
    "import matplotlib.pyplot as plt; plt.rcdefaults()\n",
    "import seaborn as sns \n",
    "\n",
    "\n",
    "plt.figure(figsize = (12, 8))\n",
    "with sns.axes_style(\"white\"):\n",
    "    sns.heatmap(sen_k_df, cmap = \"inferno_r\", mask = sen_k_df.isnull())\n",
    "\n",
    "plt.show()"
   ]
  },
  {
   "cell_type": "markdown",
   "metadata": {},
   "source": [
    "### below's the negative heatmap "
   ]
  },
  {
   "cell_type": "code",
   "execution_count": null,
   "metadata": {},
   "outputs": [],
   "source": [
    "import matplotlib.pyplot as plt; plt.rcdefaults()\n",
    "import seaborn as sns \n",
    "\n",
    "\n",
    "plt.figure(figsize = (12, 8))\n",
    "with sns.axes_style(\"white\"):\n",
    "    sns.heatmap(sen_g_df, cmap = \"inferno_r\", mask = sen_g_df.isnull())\n",
    "\n",
    "plt.show()"
   ]
  },
  {
   "cell_type": "code",
   "execution_count": null,
   "metadata": {
    "collapsed": true
   },
   "outputs": [],
   "source": [
    "print('Done')"
   ]
  }
 ],
 "metadata": {
  "kernelspec": {
   "display_name": "Python 3",
   "language": "python",
   "name": "python3"
  },
  "language_info": {
   "codemirror_mode": {
    "name": "ipython",
    "version": 3
   },
   "file_extension": ".py",
   "mimetype": "text/x-python",
   "name": "python",
   "nbconvert_exporter": "python",
   "pygments_lexer": "ipython3",
   "version": "3.6.5"
  }
 },
 "nbformat": 4,
 "nbformat_minor": 2
}
