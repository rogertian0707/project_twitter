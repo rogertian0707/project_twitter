{
 "cells": [
  {
   "cell_type": "markdown",
   "metadata": {},
   "source": [
    "## 8. Violin plot\n",
    "Code for creating the violin plots to visualize the number of interventions in conversations and conversation lengths of airlines in order to compare American Airlines to its competitors  \n",
    "Also we chose the competitors of American Airlines by the most mentioned Airlines\n",
    "\n",
    "Two tables are added to the database to help make the plots:  \n",
    "Names: contains the full name of the airline and the corresponding airline ID  \n",
    "ConvoInfo: contains per each conversation the ID of the airline, the length of the conversation and the number of interventions by the airline in that conversation  \n",
    "\n",
    "**input**: conversation pickle file and database  \n",
    "**output**: violin plots"
   ]
  },
  {
   "cell_type": "code",
   "execution_count": null,
   "metadata": {},
   "outputs": [],
   "source": [
    "import numpy as np\n",
    "import pandas as pd\n",
    "import pickle\n",
    "import sqlite3\n",
    "\n",
    "import matplotlib.pyplot as plt\n",
    "import seaborn as sns\n",
    "sns.set()\n",
    "plt.rcParams['lines.markeredgewidth'] = 1  # to fix issue with seaborn box plots; needed after importing seaborn"
   ]
  },
  {
   "cell_type": "code",
   "execution_count": null,
   "metadata": {},
   "outputs": [],
   "source": [
    "# connecting to the database and \n",
    "# accessing the pickle file with the conversation data\n",
    "\n",
    "conn = sqlite3.connect('core.db')\n",
    "all_convos = pickle.load(open(\"obj/conversations_with_scores.p\", \"rb\"))"
   ]
  },
  {
   "cell_type": "markdown",
   "metadata": {},
   "source": [
    "## First part: Competitors\n",
    "This part of the code was used to choose the competitors for American Airlines."
   ]
  },
  {
   "cell_type": "code",
   "execution_count": null,
   "metadata": {},
   "outputs": [],
   "source": [
    "# a function to get the number of conversations for each airline\n",
    "\n",
    "def GetAirlineConversations(convos, airlines):\n",
    "    all_convos = []\n",
    "    for airline in airlines:\n",
    "        airline_convos = []\n",
    "        for convo in convos:\n",
    "            found = False\n",
    "            for info in convo:\n",
    "                for user_id in info:\n",
    "                    if info[1] == airline and not found:\n",
    "                        airline_convos.append(convo)\n",
    "                        found = True\n",
    "        all_convos.append(len(airline_convos))\n",
    "    return all_convos"
   ]
  },
  {
   "cell_type": "code",
   "execution_count": null,
   "metadata": {},
   "outputs": [],
   "source": [
    "# queries to get the number of mentions for each airline\n",
    "\n",
    "AA = pd.read_sql_query('''select count(id) from twitter where text like \"%American%Air%\"''', conn) [\"count(id)\"][0]\n",
    "KLM = pd.read_sql_query('''select count(id) from twitter where text like \"%KLM%\"''', conn) [\"count(id)\"][0]\n",
    "France = pd.read_sql_query('''select count(id) from twitter where text like \"%Air%France%\"''', conn) [\"count(id)\"][0]\n",
    "British = pd.read_sql_query('''select count(id) from twitter where text like \"%British%Airways%\"''', conn) [\"count(id)\"][0]\n",
    "Lufthansa = pd.read_sql_query('''select count(id) from twitter where text like \"%Lufthansa%\"''', conn) [\"count(id)\"][0]\n",
    "Airberlin = pd.read_sql_query('''select count(id) from twitter where text like \"%AirBerlin%\"''', conn) [\"count(id)\"][0]\n",
    "AirB_assist = pd.read_sql_query('''select count(id) from twitter where text like \"%AirBerlin%assist%\"''', conn) [\"count(id)\"][0]\n",
    "easyJet = pd.read_sql_query('''select count(id) from twitter where text like \"%easy%Jet%\"''', conn) [\"count(id)\"][0]\n",
    "RyanAir = pd.read_sql_query('''select count(id) from twitter where text like \"%Ryan%Air%\"''', conn) [\"count(id)\"][0]\n",
    "SingaporeAir = pd.read_sql_query('''select count(id) from twitter where text like \"%Singapore%Air%\"''', conn) [\"count(id)\"][0]\n",
    "Qantas = pd.read_sql_query('''select count(id) from twitter where text like \"%Qantas%\"''', conn) [\"count(id)\"][0]\n",
    "EtihadAirways = pd.read_sql_query('''select count(id) from twitter where text like \"%Etihad%Airways%\"''', conn) [\"count(id)\"][0]\n",
    "VirginAtlantic = pd.read_sql_query('''select count(id) from twitter where text like \"%Virgin%Atlantic%\"''', conn) [\"count(id)\"][0]\n"
   ]
  },
  {
   "cell_type": "code",
   "execution_count": null,
   "metadata": {},
   "outputs": [],
   "source": [
    "airlines = [56377143, 106062176, 18332190, 22536055, 124476322, 26223583, 2182373406,\n",
    "            38676903, 1542862735, 253340062, 218730857, 45621423, 20626359]\n",
    "airline_names = [\"KLM\", \"Air France\", \"British Airways\", \"American Airlines\", \"Lufthansa\", \n",
    "                 \"Air Berlin\", \"Air Berlin assist\", \"easyJet\", \"Ryanair\", \"Singapore Airlines\", \n",
    "                 \"Qantas\", \"Etihad Airways\", \"Virgin Atlantic\"]\n",
    "airline_convos = GetAirlineConversations(all_convos, airlines)\n",
    "airline_mentions = [KLM, France, British, AA, Lufthansa, Airberlin, AirB_assist, \n",
    "                    easyJet, RyanAir, SingaporeAir, Qantas, EtihadAirways, VirginAtlantic]"
   ]
  },
  {
   "cell_type": "code",
   "execution_count": null,
   "metadata": {},
   "outputs": [],
   "source": [
    "# creating a dataframe with airline names, number of mentions, \n",
    "# number of conversations and a reply ratio to get a quick overview\n",
    "\n",
    "# we chose the competitors based on the values in this table when all the data was used\n",
    "\n",
    "con_men = pd.DataFrame()\n",
    "con_men['Airline'] = pd.Series(airline_names).values\n",
    "con_men['Number of mentions'] = pd.Series(airline_mentions).values\n",
    "con_men['Number of conversations'] = pd.Series(airline_convos).values\n",
    "con_men['Ratio'] = con_men['Number of conversations']/con_men['Number of mentions']\n",
    "con_men.sort_values(['Number of mentions'], ascending=False)"
   ]
  },
  {
   "cell_type": "markdown",
   "metadata": {},
   "source": [
    "## Second part: Violin plots\n",
    "This part of the code was used to create the violin plots for the lengths of conversations of airlines and number of interventions within a conversation by airlines."
   ]
  },
  {
   "cell_type": "code",
   "execution_count": null,
   "metadata": {},
   "outputs": [],
   "source": [
    "# creating a dictionary with airline names and corresponding ids and \n",
    "# then using it to create the dataframe with the same information\n",
    "\n",
    "name_dict = dict()\n",
    "for i in range(len(airline_names)):\n",
    "    name_dict[airline_names[i]] = airlines[i]\n",
    "\n",
    "Name_decoded = pd.DataFrame(list(name_dict.items()), columns=['Name', 'ID'])\n",
    "Name_decoded"
   ]
  },
  {
   "cell_type": "code",
   "execution_count": null,
   "metadata": {},
   "outputs": [],
   "source": [
    "# saving the dataframe as a table into the database\n",
    "\n",
    "Name_decoded.to_sql(\"AirlineInfo\", conn, if_exists= \"replace\")"
   ]
  },
  {
   "cell_type": "code",
   "execution_count": null,
   "metadata": {},
   "outputs": [],
   "source": [
    "# a function to get for each conversation the airline that was involved and the length of the conversation\n",
    "\n",
    "def GetAirlineConversationsLengths(convos, airlines):\n",
    "    airline_convos = []\n",
    "    for airline in airlines:\n",
    "        for convo in convos:\n",
    "            found = False\n",
    "            for tweet in convo:\n",
    "                if tweet[1] == airline and not found:\n",
    "                    airline_convos.append((airline, len(convo)))\n",
    "                    found = True\n",
    "    return airline_convos\n",
    "\n",
    "# a function to get for each conversation the airline that was involved and how many times the airline intervened\n",
    "\n",
    "def GetNumberOfInterventions(convos, airlines):\n",
    "    num_interventions = []\n",
    "    for airline in airlines:\n",
    "        for convo in convos:\n",
    "            intervention = 0\n",
    "            for tweet in convo:\n",
    "                if tweet[1] == airline:\n",
    "                    intervention += 1\n",
    "            if intervention != 0:\n",
    "                num_interventions.append((airline, intervention))\n",
    "    return num_interventions\n"
   ]
  },
  {
   "cell_type": "code",
   "execution_count": null,
   "metadata": {},
   "outputs": [],
   "source": [
    "# creating a dataframe with the airline and length of conversation for each conversation\n",
    "convo_lengths = GetAirlineConversationsLengths(all_convos, airlines)\n",
    "df_lengths = pd.DataFrame(convo_lengths, columns=[\"airline\", \"length\"])\n",
    "\n",
    "# creating a dataframe with the airline and number of intervention for each conversation\n",
    "interventions = GetNumberOfInterventions(all_convos, airlines)\n",
    "df_inter = pd.DataFrame(interventions, columns = ['airline', 'num_inter'])\n",
    "\n",
    "# combining the dataframes so that one dataframe has information about lenghts and interventions\n",
    "df_lengths[\"num_inter\"] = df_inter[\"num_inter\"]\n",
    "df_lengths.head()"
   ]
  },
  {
   "cell_type": "code",
   "execution_count": null,
   "metadata": {},
   "outputs": [],
   "source": [
    "# saving the combined dataframe as a table into the database\n",
    "\n",
    "df_lengths.to_sql(\"ConvoInfo\", conn, if_exists= \"replace\")"
   ]
  },
  {
   "cell_type": "code",
   "execution_count": null,
   "metadata": {},
   "outputs": [],
   "source": [
    "# query to have a dataframe with airline names, conversation lengths and number of interventions\n",
    "\n",
    "query = '''\n",
    "SELECT a.name AS airline, c.length AS length, c.num_inter AS num_inter\n",
    "FROM ConvoInfo AS c, AirlineInfo AS a\n",
    "WHERE c.airline = a.id;\n",
    "'''\n",
    "info = pd.read_sql_query(query, conn)"
   ]
  },
  {
   "cell_type": "code",
   "execution_count": null,
   "metadata": {},
   "outputs": [],
   "source": [
    "# function to reject the outliers in the data\n",
    "\n",
    "def reject_outliers(data, m=8):\n",
    "    return data[abs(data - np.mean(data)) < m * np.std(data)]"
   ]
  },
  {
   "cell_type": "code",
   "execution_count": null,
   "metadata": {},
   "outputs": [],
   "source": [
    "# a list with the defined competitors based on the result including all data from the table in the first part and American Airlines\n",
    "\n",
    "competitors = ['KLM', 'British Airways', 'American Airlines', 'Lufthansa', \n",
    "               'easyJet', 'Ryanair', 'Qantas']"
   ]
  },
  {
   "cell_type": "code",
   "execution_count": null,
   "metadata": {},
   "outputs": [],
   "source": [
    "# rejecting the outliers in the length column\n",
    "indices = reject_outliers(info[\"length\"]).index\n",
    "\n",
    "# only keeping the non-outliers in the table\n",
    "combined = info.loc[info.index.isin(indices)]\n",
    "\n",
    "# only keeping the conversations that include AA or the defined competitors\n",
    "final = combined.loc[combined['airline'].isin(competitors)]"
   ]
  },
  {
   "cell_type": "code",
   "execution_count": null,
   "metadata": {},
   "outputs": [],
   "source": [
    "# setting up a palette for the violinplot\n",
    "\n",
    "my_palette = {airline: '#d3494e' if airline == \"American Airlines\" else \"#658cbb\" for airline in final.airline.unique()}"
   ]
  },
  {
   "cell_type": "code",
   "execution_count": null,
   "metadata": {},
   "outputs": [],
   "source": [
    "# setting up an order in the plots based on how many conversations each airline had\n",
    "\n",
    "count_order = final.groupby(\"airline\")[\"length\"].count().sort_values(ascending=False).index"
   ]
  },
  {
   "cell_type": "code",
   "execution_count": null,
   "metadata": {},
   "outputs": [],
   "source": [
    "sns.set(font_scale = 1.8)\n",
    "sns.set_style(\"whitegrid\")\n",
    "plt.rcParams['figure.figsize'] = 20, 13\n",
    "ax = sns.violinplot(data=final, x=final[\"airline\"], y=final[\"length\"],  \n",
    "               scale=\"width\", palette=my_palette, order=count_order)\n",
    "ax.set_title(\"Violin Plot for the conversation lengths of American Airlines and their competitors\", \n",
    "             weight = \"bold\", size = 24);\n",
    "ax.set_xlabel(\"Airline\", size = 20)\n",
    "ax.set_ylabel(\"Conversation length\", size = 20);\n",
    "ax.set(xticklabels=['American Airlines', 'British Airways', 'Ryanair', 'easyJet', 'KLM', 'Qantas', 'Lufthansa']);\n",
    "# plt.savefig('airline_convos_new_new.pdf', bbox_inches = \"tight\")"
   ]
  },
  {
   "cell_type": "code",
   "execution_count": null,
   "metadata": {},
   "outputs": [],
   "source": [
    "sns.set(font_scale = 1.8)\n",
    "sns.set_style(\"whitegrid\")\n",
    "plt.rcParams['figure.figsize'] = 20, 13\n",
    "ax = sns.violinplot(data=final, x=final[\"airline\"], y=final[\"num_inter\"], scale=\"width\", palette=my_palette,  \n",
    "                    inner=\"box\", order=count_order)\n",
    "ax.set_title(\"Violin Plot for the number of interventions in a conversation for American Airlines and their competitors\", \n",
    "             weight = \"bold\", size = 18);\n",
    "ax.set_xlabel(\"Airline\", size = 20)\n",
    "ax.set_ylabel(\"Number of interventions\", size = 20);\n",
    "# plt.savefig('airline_inters.pdf', bbox_inches = \"tight\")"
   ]
  },
  {
   "cell_type": "code",
   "execution_count": null,
   "metadata": {},
   "outputs": [],
   "source": [
    "print('Done')"
   ]
  }
 ],
 "metadata": {
  "kernelspec": {
   "display_name": "Python 3",
   "language": "python",
   "name": "python3"
  },
  "language_info": {
   "codemirror_mode": {
    "name": "ipython",
    "version": 3
   },
   "file_extension": ".py",
   "mimetype": "text/x-python",
   "name": "python",
   "nbconvert_exporter": "python",
   "pygments_lexer": "ipython3",
   "version": "3.6.5"
  }
 },
 "nbformat": 4,
 "nbformat_minor": 2
}
