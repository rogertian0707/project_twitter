{
 "cells": [
  {
   "cell_type": "markdown",
   "metadata": {},
   "source": [
    "## 7. hex plot\n",
    "Code for creating the last poster plot, to visualize the sentiment change after airline replys to negaitve tweets  \n",
    "\n",
    "**input**: word_sentiment_change csv file  \n",
    "**output**: hex plot"
   ]
  },
  {
   "cell_type": "markdown",
   "metadata": {},
   "source": [
    "## 7-2. R code\n",
    "Generate data for R code to run t test of user sentiment **before** and **after** airline replys\n",
    "\n",
    "**input**: word_sentiment_change csv file  \n",
    "**output**: mean and standard deviation of **before** and **after** replys"
   ]
  },
  {
   "cell_type": "code",
   "execution_count": null,
   "metadata": {
    "collapsed": true
   },
   "outputs": [],
   "source": [
    "import pandas as pd\n",
    "\n",
    "\n",
    "%matplotlib inline\n",
    "import matplotlib.pyplot as plt\n",
    "import seaborn as sns\n",
    "sns.set()  # set Seaborn defaults\n",
    "plt.rcParams['figure.figsize'] = 15, 10  # default hor./vert. size of plots, in inches\n",
    "plt.rcParams['lines.markeredgewidth'] = 1  # to fix issue with seaborn box plots; needed after import seaborn\n",
    "import numpy as np"
   ]
  },
  {
   "cell_type": "code",
   "execution_count": null,
   "metadata": {},
   "outputs": [],
   "source": [
    "'''opens the csv file that contains the sentiment before and after AA replies to tweets that contain \n",
    "\"cancel\", \"delay\" or \"connection\" '''\n",
    "file_dir = 'obj/'\n",
    "file = file_dir + \"word_sentiment_change.csv\" \n",
    "filtered_comb = pd.read_csv(file)\n",
    "filtered_comb.head()"
   ]
  },
  {
   "cell_type": "code",
   "execution_count": null,
   "metadata": {},
   "outputs": [],
   "source": [
    "sns.set(font_scale = 1.5)\n",
    "sns.axes_style(\"white\")\n",
    "sns.jointplot(x=filtered_comb[\"first\"], y=filtered_comb[\"last\"] , kind=\"hex\", color = \"#7b0323\", size = 10, xlim=(-0.9,-0.01));\n",
    "\n",
    "#plt.savefig('sentiment_change.png');\n",
    "#the red diagonal line on the poster has been added afterwards, to make it easier to see"
   ]
  },
  {
   "cell_type": "markdown",
   "metadata": {},
   "source": [
    "## R Code variables \n",
    "After executing the following cells, the output can be simply copied into R, since these variables will then be used for the tsum.test function."
   ]
  },
  {
   "cell_type": "code",
   "execution_count": null,
   "metadata": {},
   "outputs": [],
   "source": [
    "print(\"n <-\", len(filtered_comb))"
   ]
  },
  {
   "cell_type": "code",
   "execution_count": null,
   "metadata": {},
   "outputs": [],
   "source": [
    "print(\"first_mean <- \",filtered_comb[\"first\"].mean())\n",
    "print(\"first_sd <- \",filtered_comb[\"first\"].std())"
   ]
  },
  {
   "cell_type": "code",
   "execution_count": null,
   "metadata": {},
   "outputs": [],
   "source": [
    "print(\"last_mean <-\",filtered_comb[\"last\"].mean()) \n",
    "print(\"last_sd <-\",filtered_comb[\"last\"].std())"
   ]
  },
  {
   "cell_type": "code",
   "execution_count": null,
   "metadata": {},
   "outputs": [],
   "source": [
    "print('Done')"
   ]
  }
 ],
 "metadata": {
  "kernelspec": {
   "display_name": "Python 3",
   "language": "python",
   "name": "python3"
  },
  "language_info": {
   "codemirror_mode": {
    "name": "ipython",
    "version": 3
   },
   "file_extension": ".py",
   "mimetype": "text/x-python",
   "name": "python",
   "nbconvert_exporter": "python",
   "pygments_lexer": "ipython3",
   "version": "3.6.5"
  }
 },
 "nbformat": 4,
 "nbformat_minor": 2
}
