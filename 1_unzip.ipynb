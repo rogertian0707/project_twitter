{
 "cells": [
  {
   "cell_type": "markdown",
   "metadata": {},
   "source": [
    "## 1. unzip\n",
    "Unzip files to /extract folder\n",
    "\n",
    "**input**  :zip files at /zip_folder  \n",
    "**output** :json files at /extract folder"
   ]
  },
  {
   "cell_type": "code",
   "execution_count": null,
   "metadata": {
    "collapsed": true
   },
   "outputs": [],
   "source": [
    "import json\n",
    "import sqlite3\n",
    "import os, sys\n",
    "import zipfile"
   ]
  },
  {
   "cell_type": "code",
   "execution_count": null,
   "metadata": {
    "collapsed": true
   },
   "outputs": [],
   "source": [
    "'''Specify the relatively path'''\n",
    "path = \"./extract\"\n",
    "zip_folder = \"./zip_folder/\""
   ]
  },
  {
   "cell_type": "code",
   "execution_count": null,
   "metadata": {
    "collapsed": true
   },
   "outputs": [],
   "source": [
    "'''function un_zip: unzip the given zip file, input file path'''\n",
    "def un_zip(file_name, unzip_file):  \n",
    "    zip_file = zipfile.ZipFile(file_name)  \n",
    "    for names in zip_file.namelist():\n",
    "        zip_file.extract(names,unzip_file)\n",
    "    zip_file.close()\n",
    "\n",
    "'''function execute_unzip: unzip the zip file at once to /extract folder'''\n",
    "def execute_unzip():\n",
    "    print('found',len(zip_file_list),'zips')\n",
    "    for files in zip_file_list:\n",
    "        print('unzip ',files,' complete')\n",
    "        un_zip(zip_folder+str(files), path)\n",
    "    print('Done')"
   ]
  },
  {
   "cell_type": "code",
   "execution_count": null,
   "metadata": {},
   "outputs": [],
   "source": [
    "# create a list that only contains zip file\n",
    "zip_file_list = []\n",
    "\n",
    "#select only zip files, append the names into list\n",
    "for file in os.listdir(zip_folder):\n",
    "    if os.path.splitext(file)[1][1:] == \"zip\":\n",
    "        zip_file_list.append(file)"
   ]
  },
  {
   "cell_type": "code",
   "execution_count": null,
   "metadata": {},
   "outputs": [],
   "source": [
    "execute_unzip()"
   ]
  }
 ],
 "metadata": {
  "kernelspec": {
   "display_name": "Python 3",
   "language": "python",
   "name": "python3"
  },
  "language_info": {
   "codemirror_mode": {
    "name": "ipython",
    "version": 3
   },
   "file_extension": ".py",
   "mimetype": "text/x-python",
   "name": "python",
   "nbconvert_exporter": "python",
   "pygments_lexer": "ipython3",
   "version": "3.6.5"
  }
 },
 "nbformat": 4,
 "nbformat_minor": 2
}
