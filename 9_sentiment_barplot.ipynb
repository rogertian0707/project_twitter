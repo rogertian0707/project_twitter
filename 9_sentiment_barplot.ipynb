{
 "cells": [
  {
   "cell_type": "markdown",
   "metadata": {},
   "source": [
    "## 9. sentiment_barplot\n",
    "Plot distribution of sentiment for incoming tweets for each airline\n",
    "\n",
    "**input**  :pickle file at /obj folder  \n",
    "**output** :plot of sentiment distribution for each airline;  \n",
    "            Pandas dataframe with sentiment category ratios for each airline"
   ]
  },
  {
   "cell_type": "code",
   "execution_count": null,
   "metadata": {
    "collapsed": true
   },
   "outputs": [],
   "source": [
    "# Importing the necessary libraries.\n",
    "\n",
    "import pandas as pd\n",
    "import matplotlib.pyplot as plt\n",
    "import pickle\n",
    "import operator\n",
    "import seaborn as sns"
   ]
  },
  {
   "cell_type": "code",
   "execution_count": null,
   "metadata": {
    "collapsed": true
   },
   "outputs": [],
   "source": [
    "# Setting default specifications for our plots.\n",
    "\n",
    "sns.set(font_scale = 2)\n",
    "sns.set_style(\"whitegrid\")\n",
    "plt.rcParams['figure.figsize'] = 20,15"
   ]
  },
  {
   "cell_type": "code",
   "execution_count": null,
   "metadata": {
    "collapsed": true
   },
   "outputs": [],
   "source": [
    "# We open our pickle file with useful tweet data.\n",
    "\n",
    "scores_pickle = pickle.load(open(\"obj/conversations_with_scores.p\", \"rb\"))"
   ]
  },
  {
   "cell_type": "code",
   "execution_count": null,
   "metadata": {
    "collapsed": true
   },
   "outputs": [],
   "source": [
    "# We create a class MyDict which will allow us to perform more operations on our dictionaries.\n",
    "\n",
    "class MyDict(dict):\n",
    "    def __add__(self, oth):\n",
    "        r = self.copy()\n",
    "\n",
    "        try:\n",
    "            for key, val in oth.items():\n",
    "                if key in r:\n",
    "                    r[key] += val  # You can custom it here\n",
    "                else:\n",
    "                    r[key] = val\n",
    "        except AttributeError:  # In case oth isn't a dict\n",
    "            return NotImplemented  # The convention when a case isn't handled\n",
    "\n",
    "        return r\n"
   ]
  },
  {
   "cell_type": "code",
   "execution_count": null,
   "metadata": {
    "collapsed": true
   },
   "outputs": [],
   "source": [
    "# We count the number of tweets in which each airline is tagged or mentioned.\n",
    "# We also create a list (mention_tweets) of all tweets tagging or mentioning any of the airlines under investigation.\n",
    "\n",
    "airline_tags = ['@RyanAir', '@EtihadAirways', '@SingaporeAir', '@KLM', '@Qantas', '@VirginAtlantic', '@Lufthansa', '@AirBerlinassist', '@AirFrance', '@AirBerlin', '@British_Airways', '@easyJet', '@AmericanAir']\n",
    "airline_names = ['Ryanair', 'Etihad Airways', 'Singapore Air', 'KLM', 'Qantas', 'Virgin Atlantic', 'Lufthansa', 'Air Berlin assist', 'Air France', 'Air Berlin', 'British Airways', 'easyJet', 'American Airlines']\n",
    "\n",
    "total_tweet_count = {airline_names[i]:0 for i in range(len(airline_names))}\n",
    "mention_tweets = []\n",
    "\n",
    "for convo in scores_pickle:\n",
    "    for tweet in convo:\n",
    "        for i in range(len(airline_tags)):\n",
    "            if (airline_tags[i].lower() or airline_names[i].lower()) in tweet[3].lower():\n",
    "                mention_tweets.append(tweet)\n",
    "                total_tweet_count[airline_names[i]] += 1\n"
   ]
  },
  {
   "cell_type": "code",
   "execution_count": null,
   "metadata": {
    "collapsed": true
   },
   "outputs": [],
   "source": [
    "# We divide our tweets from mention_tweets into five categories for sentiment.\n",
    "\n",
    "# Very negative tweets have a sentiment score below -0.6.\n",
    "# Negative tweets have a sentiment score between -0.6 (inclusive) and -0.2.\n",
    "# Neutral tweets have a sentiment score between -0.2 (inclusive) and 0.2 (inclusive).\n",
    "# Positive tweets have a sentiment score between 0.2 and 0.6 (inclusive).\n",
    "# Very positive tweets have a sentiment score above 0.6.\n",
    "\n",
    "maxneg = []\n",
    "minneg = []\n",
    "neutral = []\n",
    "minpos = []\n",
    "maxpos = []\n",
    "\n",
    "for tweet in mention_tweets:\n",
    "    if tweet[4] < -0.6:\n",
    "        maxneg.append(tweet)\n",
    "    elif tweet[4] >= -0.6 and tweet[4] < -0.2:\n",
    "        minneg.append(tweet)\n",
    "    elif tweet[4] >= -0.2 and tweet[4] <= 0.2:\n",
    "        neutral.append(tweet)\n",
    "    elif tweet[4] > 0.2 and tweet[4] <= 0.6:\n",
    "        minpos.append(tweet)\n",
    "    elif tweet[4] > 0.6:\n",
    "        maxpos.append(tweet)\n",
    "\n"
   ]
  },
  {
   "cell_type": "code",
   "execution_count": null,
   "metadata": {
    "collapsed": true
   },
   "outputs": [],
   "source": [
    "# We create a dictionary with the total number of incoming tweets for each airline.\n",
    "# This will be used when scaling our final plot such that the ratio of a certain sentiment,\n",
    "# and not the nominal number of tweets, is shown.\n",
    "\n",
    "total_tweets = {airline_names[i]:0 for i in range(len(airline_names))}\n",
    "\n",
    "cat_list = [maxneg, minneg, neutral, minpos, maxpos]\n",
    "\n",
    "for cat in cat_list:\n",
    "    for tweet in cat:\n",
    "        for i in range(len(airline_tags)):\n",
    "            if (airline_tags[i].lower() or airline_names[i].lower()) in tweet[3].lower():\n",
    "                total_tweets[airline_names[i]] += 1\n"
   ]
  },
  {
   "cell_type": "code",
   "execution_count": null,
   "metadata": {
    "scrolled": true
   },
   "outputs": [],
   "source": [
    "# Now we are ready to compile our plot with the sentiment distribution for all airlines.\n",
    "\n",
    "tweet_sum_by_air = {airline_names[i]:0 for i in range(len(airline_names))}\n",
    "\n",
    "color_list = ['#FF0000', '#FFA500', '#FFD700', '#9ACD32', '#008000']\n",
    "cat_name_list = ['Very negative', 'Negative', 'Neutral', 'Positive', 'Very positive']\n",
    "\n",
    "index = 0\n",
    "\n",
    "ratios_dict = {}\n",
    "\n",
    "for cat in cat_list:\n",
    "    cat_container = {airline_names[i]:0 for i in range(len(airline_names))}\n",
    "    for tweet in cat:\n",
    "        for i in range(len(airline_tags)):\n",
    "            if (airline_tags[i].lower() or airline_names[i].lower()) in tweet[3].lower():\n",
    "                cat_container[airline_names[i]] += 1\n",
    "    for i in range(len(cat_container)):\n",
    "        cat_container[airline_names[i]] = cat_container[airline_names[i]] / total_tweets[airline_names[i]]\n",
    "    plt.bar(range(len(cat_container)), list(cat_container.values()), align='center', bottom=tweet_sum_by_air.values(), color=color_list[cat_list.index(cat)])\n",
    "    plt.xticks(range(len(cat_container)), list(cat_container.keys()), rotation='vertical')\n",
    "    tweet_sum_by_air = MyDict(tweet_sum_by_air) + MyDict(cat_container)\n",
    "    ratios_dict.update({cat_name_list[index]:list(cat_container.values())})\n",
    "    index += 1\n",
    "\n",
    "plt.show()"
   ]
  },
  {
   "cell_type": "code",
   "execution_count": null,
   "metadata": {},
   "outputs": [],
   "source": [
    "# In order to get the numerical values of the ratios displayed in the plot, we compile a dataframe.\n",
    "\n",
    "ratios_dict.update({'category':[*cat_container]})\n",
    "\n",
    "ratios_df = pd.DataFrame(ratios_dict, columns=ratios_dict.keys())\n",
    "ratios_df.set_index('category')\n",
    "ratios_df = ratios_df.transpose()\n",
    "ratios_df.columns = ratios_df.iloc[5]\n",
    "ratios_df = ratios_df.drop(['category'])\n",
    "ratios_df = ratios_df.iloc[::-1]\n",
    "ratios_df"
   ]
  },
  {
   "cell_type": "code",
   "execution_count": null,
   "metadata": {},
   "outputs": [],
   "source": [
    "# Now, what are the sentiment ratios for American Airlines?\n",
    "\n",
    "ratios_df['American Airlines']"
   ]
  },
  {
   "cell_type": "code",
   "execution_count": null,
   "metadata": {},
   "outputs": [],
   "source": [
    "print('Done')"
   ]
  }
 ],
 "metadata": {
  "kernelspec": {
   "display_name": "Python 3",
   "language": "python",
   "name": "python3"
  },
  "language_info": {
   "codemirror_mode": {
    "name": "ipython",
    "version": 3
   },
   "file_extension": ".py",
   "mimetype": "text/x-python",
   "name": "python",
   "nbconvert_exporter": "python",
   "pygments_lexer": "ipython3",
   "version": "3.6.5"
  }
 },
 "nbformat": 4,
 "nbformat_minor": 2
}
