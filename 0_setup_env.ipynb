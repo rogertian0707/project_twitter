{
 "cells": [
  {
   "cell_type": "markdown",
   "metadata": {},
   "source": [
    "## 0 setup environment\n",
    "install all necessary library and create folder for later use\n",
    "\n",
    "**if your test system is Linux, please change pip to pip3**"
   ]
  },
  {
   "cell_type": "code",
   "execution_count": null,
   "metadata": {},
   "outputs": [],
   "source": [
    "!pip install msgpack\n",
    "!pip install vaderSentiment\n",
    "!pip install textblob\n",
    "!pip install nltk\n",
    "!pip install matplotlib==2.0.2\n",
    "!pip install pandas\n",
    "!pip install seaborn"
   ]
  },
  {
   "cell_type": "code",
   "execution_count": null,
   "metadata": {},
   "outputs": [],
   "source": [
    "import nltk\n",
    "nltk.download('stopwords')\n",
    "nltk.download('punkt')"
   ]
  },
  {
   "cell_type": "code",
   "execution_count": null,
   "metadata": {},
   "outputs": [],
   "source": [
    "# optional\n",
    "# import nltk\n",
    "# nltk.download('all')"
   ]
  },
  {
   "cell_type": "code",
   "execution_count": null,
   "metadata": {},
   "outputs": [],
   "source": [
    "# create folders\n",
    "import os, sys\n",
    "\n",
    "if os.path.isdir('extract'):  \n",
    "    pass  \n",
    "else:  \n",
    "    os.mkdir('extract')\n",
    "\n",
    "if os.path.isdir('zip_folder'):  \n",
    "    pass  \n",
    "else:  \n",
    "    os.mkdir('zip_folder')\n",
    "\n",
    "if os.path.isdir('obj'):  \n",
    "    pass  \n",
    "else:  \n",
    "    os.mkdir('obj')\n",
    "print('Done')"
   ]
  }
 ],
 "metadata": {
  "kernelspec": {
   "display_name": "Python 3",
   "language": "python",
   "name": "python3"
  },
  "language_info": {
   "codemirror_mode": {
    "name": "ipython",
    "version": 3
   },
   "file_extension": ".py",
   "mimetype": "text/x-python",
   "name": "python",
   "nbconvert_exporter": "python",
   "pygments_lexer": "ipython3",
   "version": "3.6.5"
  }
 },
 "nbformat": 4,
 "nbformat_minor": 2
}
