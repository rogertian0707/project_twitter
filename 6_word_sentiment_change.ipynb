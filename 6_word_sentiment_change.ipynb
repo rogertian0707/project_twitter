{
 "cells": [
  {
   "cell_type": "markdown",
   "metadata": {},
   "source": [
    "## 6. create sentiment change csv file\n",
    "To test if the sentiment score **changes** for negative tweets after American Airline replys to the conversation that contains **cancel**, **delay** or **connenction**.  \n",
    "\n",
    "**input**  : database core.db  \n",
    "**output** : csv file 'obj/word_sentiment_change.csv' -> contains conversation id, user first sentiment score, user last sentiment score"
   ]
  },
  {
   "cell_type": "code",
   "execution_count": null,
   "metadata": {},
   "outputs": [],
   "source": [
    "import sqlite3\n",
    "import time\n",
    "import pandas as pd\n",
    "\n",
    "conn = sqlite3.connect('core.db')"
   ]
  },
  {
   "cell_type": "code",
   "execution_count": null,
   "metadata": {},
   "outputs": [],
   "source": [
    "query = '''select conversation_id\n",
    "from twitter,conversation\n",
    "where twitter.id = conversation.tweet_id and twitter.user_id like '22536055' and (twitter.text like '%delay%' or twitter.text like '%cancel%' or twitter.text like '%connection%') '''\n",
    "query = pd.read_sql_query(query,conn)"
   ]
  },
  {
   "cell_type": "code",
   "execution_count": null,
   "metadata": {},
   "outputs": [],
   "source": [
    "print('unique conversations :',len(query.conversation_id.unique()))"
   ]
  },
  {
   "cell_type": "code",
   "execution_count": null,
   "metadata": {},
   "outputs": [],
   "source": [
    "conversation_id_all = list(query.conversation_id.unique())"
   ]
  },
  {
   "cell_type": "code",
   "execution_count": null,
   "metadata": {},
   "outputs": [],
   "source": [
    "query = '''select created_at,sentiment_score,conversation_id,user_id\n",
    "from twitter,conversation\n",
    "where twitter.id = conversation.tweet_id\n",
    "'''\n",
    "all_cov = pd.read_sql_query(query,conn)"
   ]
  },
  {
   "cell_type": "code",
   "execution_count": null,
   "metadata": {},
   "outputs": [],
   "source": [
    "st = time.time()\n",
    "all_cov['created_at'] = all_cov['created_at'].apply(lambda x : pd.to_datetime(x))\n",
    "\n",
    "print(round(time.time()-st,2),'sec')"
   ]
  },
  {
   "cell_type": "code",
   "execution_count": null,
   "metadata": {},
   "outputs": [],
   "source": [
    "result_df = pd.DataFrame(columns = ['conversation','first','last'])\n",
    "\n",
    "unique_cov = all_cov.conversation_id.unique()\n",
    "result_lst = []\n",
    "# gp = all.groupby('conversation_id')\n",
    "\n",
    "st = time.time()\n",
    "for index in conversation_id_all:\n",
    "    gp_sort = all_cov.groupby('conversation_id').get_group(index).sort_values('created_at')\n",
    "    user_first_id = gp_sort.iloc[0].user_id\n",
    "    user_first_senti =  gp_sort.iloc[0].sentiment_score\n",
    "    if user_first_senti < 0:\n",
    "        user_last_senti = gp_sort[gp_sort['user_id'] == user_first_id].iloc[-1].sentiment_score\n",
    "        result_lst = result_lst + [[index,user_first_senti,user_last_senti]]\n",
    "    \n",
    "#     display(all_cov.groupby('conversation_id').get_group(index))\n",
    "#     display(gp_sort)\n",
    "#     display(gp_sort[gp_sort['user_id'] == user_first_id])\n",
    "#     print(result_lst)\n",
    "#     break\n",
    "print(round(time.time()-st,2),'sec')"
   ]
  },
  {
   "cell_type": "code",
   "execution_count": null,
   "metadata": {},
   "outputs": [],
   "source": [
    "for i in range(len(result_lst)-1):\n",
    "    result_df.loc[i] = result_lst[i]\n",
    "result_df.to_csv('obj/word_sentiment_change.csv')"
   ]
  },
  {
   "cell_type": "code",
   "execution_count": null,
   "metadata": {},
   "outputs": [],
   "source": [
    "print('Done')"
   ]
  }
 ],
 "metadata": {
  "kernelspec": {
   "display_name": "Python 3",
   "language": "python",
   "name": "python3"
  },
  "language_info": {
   "codemirror_mode": {
    "name": "ipython",
    "version": 3
   },
   "file_extension": ".py",
   "mimetype": "text/x-python",
   "name": "python",
   "nbconvert_exporter": "python",
   "pygments_lexer": "ipython3",
   "version": "3.6.5"
  }
 },
 "nbformat": 4,
 "nbformat_minor": 2
}
