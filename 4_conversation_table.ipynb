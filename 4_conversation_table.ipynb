{
 "cells": [
  {
   "cell_type": "markdown",
   "metadata": {},
   "source": [
    "## 4. create conversation table\n",
    "Insert conversation table to database core.db  \n",
    "\n",
    "**input**: conversation pickle file  \n",
    "**output** : database conversation table"
   ]
  },
  {
   "cell_type": "code",
   "execution_count": null,
   "metadata": {},
   "outputs": [],
   "source": [
    "import pandas as pd\n",
    "import sqlite3\n",
    "import time\n",
    "import pickle"
   ]
  },
  {
   "cell_type": "code",
   "execution_count": null,
   "metadata": {
    "scrolled": true
   },
   "outputs": [],
   "source": [
    "file = 'core.db'\n",
    "conn = sqlite3.connect(file)"
   ]
  },
  {
   "cell_type": "code",
   "execution_count": null,
   "metadata": {
    "collapsed": true
   },
   "outputs": [],
   "source": [
    "'''\n",
    "This way you can load the pickle file into python.\n",
    "\n",
    "It contains our beloveth conversations with super badass scores.\n",
    "'''\n",
    "\n",
    "pickle_conversation = pickle.load(open(\"obj/conversations_with_scores.p\", \"rb\"))"
   ]
  },
  {
   "cell_type": "code",
   "execution_count": null,
   "metadata": {
    "collapsed": true
   },
   "outputs": [],
   "source": [
    "airlines = [\"56377143\", \"106062176\", \"18332190\", \"22536055\", \"124476322\", \"26223583\", \"2182373406\", \n",
    "                \"38676903\", \"1542862735\", \"253340062\", \"218730857\", \"45621423\", \"20626359\"]"
   ]
  },
  {
   "cell_type": "code",
   "execution_count": null,
   "metadata": {
    "collapsed": true
   },
   "outputs": [],
   "source": [
    "count = 0\n",
    "conv = []\n",
    "tweet_id =[]\n",
    "for conversation_index in range(len(pickle_conversation)):\n",
    "        for tweet_index in range(len(pickle_conversation[conversation_index])):\n",
    "            tweet_id.append(pickle_conversation[conversation_index][tweet_index][0])\n",
    "            conv.append(count)\n",
    "        count += 1"
   ]
  },
  {
   "cell_type": "code",
   "execution_count": null,
   "metadata": {},
   "outputs": [],
   "source": [
    "frame = pd.DataFrame(data = tweet_id, columns= [\"tweet_id\"])\n",
    "frame[\"conversation_id\"] = conv"
   ]
  },
  {
   "cell_type": "code",
   "execution_count": null,
   "metadata": {},
   "outputs": [],
   "source": [
    "'''adds the conversation table to the database'''\n",
    "\n",
    "frame.to_sql(\"conversation\", conn, if_exists= \"replace\")"
   ]
  },
  {
   "cell_type": "code",
   "execution_count": null,
   "metadata": {},
   "outputs": [],
   "source": [
    "print('done')"
   ]
  }
 ],
 "metadata": {
  "kernelspec": {
   "display_name": "Python 3",
   "language": "python",
   "name": "python3"
  },
  "language_info": {
   "codemirror_mode": {
    "name": "ipython",
    "version": 3
   },
   "file_extension": ".py",
   "mimetype": "text/x-python",
   "name": "python",
   "nbconvert_exporter": "python",
   "pygments_lexer": "ipython3",
   "version": "3.6.5"
  }
 },
 "nbformat": 4,
 "nbformat_minor": 2
}
